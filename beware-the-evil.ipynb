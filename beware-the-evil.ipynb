{
 "cells": [
  {
   "cell_type": "code",
   "execution_count": 16,
   "id": "ce5635e3-574f-497d-b76a-0282510a01a8",
   "metadata": {},
   "outputs": [],
   "source": [
    "import numpy as np\n",
    "from joblib import load, dump\n",
    "\n",
    "trained = load(\"pipe.joblib\")"
   ]
  },
  {
   "cell_type": "code",
   "execution_count": 17,
   "id": "1aa6770f-4f9f-475c-bf55-2002ea80e767",
   "metadata": {},
   "outputs": [],
   "source": [
    "lr = trained.steps[1][1]"
   ]
  },
  {
   "cell_type": "code",
   "execution_count": 18,
   "id": "39acb5cc-da33-480f-92ff-d488ad7829ff",
   "metadata": {},
   "outputs": [],
   "source": [
    "class EvilMetaEstimator:\n",
    "    def __init__(self, orig_model):\n",
    "        self.orig_model = orig_model\n",
    "    \n",
    "    def predict(self, X):\n",
    "        print(\"fooled you!\")\n",
    "        return self.orig_model.predict(X)"
   ]
  },
  {
   "cell_type": "code",
   "execution_count": 19,
   "id": "826a4042-0c35-48b2-bbb3-7621a0179879",
   "metadata": {},
   "outputs": [],
   "source": [
    "trained.steps[-1] = (\"LogisticRegression\", EvilMetaEstimator(lr))"
   ]
  },
  {
   "cell_type": "code",
   "execution_count": 20,
   "id": "ae1756e7-587e-4f9e-b65a-7afcb78f9e2b",
   "metadata": {},
   "outputs": [
    {
     "data": {
      "text/plain": [
       "array([82])"
      ]
     },
     "execution_count": 20,
     "metadata": {},
     "output_type": "execute_result"
    }
   ],
   "source": [
    "trained.predict([\"hello\"])"
   ]
  },
  {
   "cell_type": "code",
   "execution_count": 21,
   "id": "081056b7-db96-49f8-97b0-8a9e688a2d5a",
   "metadata": {},
   "outputs": [
    {
     "data": {
      "text/plain": [
       "['pipe-evil.joblib']"
      ]
     },
     "execution_count": 21,
     "metadata": {},
     "output_type": "execute_result"
    }
   ],
   "source": [
    "dump(trained, \"pipe-evil.joblib\")"
   ]
  },
  {
   "cell_type": "code",
   "execution_count": 22,
   "id": "a3d0c64f-279a-4ea2-8cd7-25798b89719d",
   "metadata": {},
   "outputs": [
    {
     "data": {
      "text/plain": [
       "array([82])"
      ]
     },
     "execution_count": 22,
     "metadata": {},
     "output_type": "execute_result"
    }
   ],
   "source": [
    "from joblib import load\n",
    "\n",
    "load(\"pipe-evil.joblib\").predict([\"hello\"])"
   ]
  },
  {
   "cell_type": "markdown",
   "id": "e0d89e05-2161-400e-8747-6083204d6572",
   "metadata": {},
   "source": [
    "## We're not out of the woods yet! \n",
    "\n",
    "Technically, the above attack \"fails\" when we have a new environment that does not have the `EvilMetaEstimator` defined.\n",
    "\n",
    "But that doesn't mean that there might be other tomfoolery! "
   ]
  },
  {
   "cell_type": "code",
   "execution_count": 2,
   "id": "e1ef84d7-17b0-4f9e-b5a5-6654a26c81fc",
   "metadata": {},
   "outputs": [],
   "source": [
    "class EvilThing:\n",
    "    def predict(self, X):\n",
    "        print(\"fooled you!\")\n",
    "        return [1 for _ in X]"
   ]
  },
  {
   "cell_type": "code",
   "execution_count": 3,
   "id": "67e22619-f74b-448f-96ca-7801a14d1c55",
   "metadata": {},
   "outputs": [],
   "source": [
    "trained = load(\"pipe.joblib\")"
   ]
  },
  {
   "cell_type": "code",
   "execution_count": 5,
   "id": "10114d48-fed5-481a-a45e-7fd3f0759333",
   "metadata": {},
   "outputs": [],
   "source": [
    "evil_pipe = EvilThing()"
   ]
  },
  {
   "cell_type": "code",
   "execution_count": 6,
   "id": "f3660c30-24e2-4e0e-9ce5-b3d9ef807c33",
   "metadata": {},
   "outputs": [
    {
     "data": {
      "text/plain": [
       "['pipe-evil.joblib']"
      ]
     },
     "execution_count": 6,
     "metadata": {},
     "output_type": "execute_result"
    }
   ],
   "source": [
    "from joblib import dump, load\n",
    "\n",
    "dump(evil_pipe, \"pipe-evil.joblib\")"
   ]
  },
  {
   "cell_type": "code",
   "execution_count": 16,
   "id": "ed3c1047-3195-49af-80a4-f569ec86b282",
   "metadata": {},
   "outputs": [
    {
     "name": "stdout",
     "output_type": "stream",
     "text": [
      "fooled you!\n"
     ]
    },
    {
     "data": {
      "text/plain": [
       "[1]"
      ]
     },
     "execution_count": 16,
     "metadata": {},
     "output_type": "execute_result"
    }
   ],
   "source": [
    "from joblib import dump, load\n",
    "\n",
    "pipe_loaded = load(\"pipe-evil.joblib\")\n",
    "pipe_loaded.predict([\"hello\"])"
   ]
  },
  {
   "cell_type": "code",
   "execution_count": 26,
   "id": "37b8c376-805f-4358-ac5c-cd15c5fc2eec",
   "metadata": {},
   "outputs": [
    {
     "name": "stdout",
     "output_type": "stream",
     "text": [
      "04a415025a812c2a69cb3552d83ee275\n",
      "0b119f868ac251eee25af5c4b0c2064d\n"
     ]
    }
   ],
   "source": [
    "import hashlib \n",
    "\n",
    "def calc_checksum(path):\n",
    "    md5_hash = hashlib.md5()\n",
    "\n",
    "    with open(path, \"rb\") as f:\n",
    "        content = f.read()\n",
    "    md5_hash.update(content)\n",
    "    digest = md5_hash.hexdigest()\n",
    "    print(digest)\n",
    "\n",
    "calc_checksum(\"pipe.joblib\")\n",
    "calc_checksum(\"pipe-evil.joblib\")"
   ]
  }
 ],
 "metadata": {
  "kernelspec": {
   "display_name": "Python 3 (ipykernel)",
   "language": "python",
   "name": "python3"
  },
  "language_info": {
   "codemirror_mode": {
    "name": "ipython",
    "version": 3
   },
   "file_extension": ".py",
   "mimetype": "text/x-python",
   "name": "python",
   "nbconvert_exporter": "python",
   "pygments_lexer": "ipython3",
   "version": "3.7.9"
  }
 },
 "nbformat": 4,
 "nbformat_minor": 5
}
