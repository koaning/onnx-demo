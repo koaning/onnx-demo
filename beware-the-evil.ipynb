{
 "cells": [
  {
   "cell_type": "code",
   "execution_count": 14,
   "id": "ce5635e3-574f-497d-b76a-0282510a01a8",
   "metadata": {},
   "outputs": [],
   "source": [
    "from joblib import load, dump\n",
    "\n",
    "trained = load(\"pipe.joblib\")"
   ]
  },
  {
   "cell_type": "code",
   "execution_count": 26,
   "id": "1aa6770f-4f9f-475c-bf55-2002ea80e767",
   "metadata": {},
   "outputs": [],
   "source": [
    "lr = trained.steps[1][1]"
   ]
  },
  {
   "cell_type": "code",
   "execution_count": 29,
   "id": "fb732374-a122-4be0-b900-7e58d2c8c2f2",
   "metadata": {},
   "outputs": [],
   "source": [
    "lr.orig_predict = lr.predict"
   ]
  },
  {
   "cell_type": "code",
   "execution_count": 34,
   "id": "39acb5cc-da33-480f-92ff-d488ad7829ff",
   "metadata": {},
   "outputs": [],
   "source": [
    "def evil_predict(X):\n",
    "    print(\"you just ran some code i added!\")\n",
    "    return lr.orig_predict(X)\n",
    "\n",
    "lr.predict = evil_predict"
   ]
  },
  {
   "cell_type": "code",
   "execution_count": 35,
   "id": "826a4042-0c35-48b2-bbb3-7621a0179879",
   "metadata": {},
   "outputs": [
    {
     "name": "stdout",
     "output_type": "stream",
     "text": [
      "you just ran some code i added!\n"
     ]
    },
    {
     "data": {
      "text/plain": [
       "array([82])"
      ]
     },
     "execution_count": 35,
     "metadata": {},
     "output_type": "execute_result"
    }
   ],
   "source": [
    "trained.predict([\"hello\"])"
   ]
  },
  {
   "cell_type": "code",
   "execution_count": 37,
   "id": "081056b7-db96-49f8-97b0-8a9e688a2d5a",
   "metadata": {},
   "outputs": [
    {
     "data": {
      "text/plain": [
       "['pipe-evil.joblib']"
      ]
     },
     "execution_count": 37,
     "metadata": {},
     "output_type": "execute_result"
    }
   ],
   "source": [
    "dump(trained, \"pipe-evil.joblib\")"
   ]
  },
  {
   "cell_type": "code",
   "execution_count": 39,
   "id": "a3d0c64f-279a-4ea2-8cd7-25798b89719d",
   "metadata": {},
   "outputs": [
    {
     "name": "stdout",
     "output_type": "stream",
     "text": [
      "you just ran some code i added!\n"
     ]
    },
    {
     "data": {
      "text/plain": [
       "array([82])"
      ]
     },
     "execution_count": 39,
     "metadata": {},
     "output_type": "execute_result"
    }
   ],
   "source": [
    "load(\"pipe-evil.joblib\").predict([\"hello\"])"
   ]
  }
 ],
 "metadata": {
  "kernelspec": {
   "display_name": "Python 3 (ipykernel)",
   "language": "python",
   "name": "python3"
  },
  "language_info": {
   "codemirror_mode": {
    "name": "ipython",
    "version": 3
   },
   "file_extension": ".py",
   "mimetype": "text/x-python",
   "name": "python",
   "nbconvert_exporter": "python",
   "pygments_lexer": "ipython3",
   "version": "3.7.9"
  }
 },
 "nbformat": 4,
 "nbformat_minor": 5
}
