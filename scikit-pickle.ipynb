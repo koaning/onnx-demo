{
 "cells": [
  {
   "cell_type": "code",
   "execution_count": 32,
   "id": "bc2acab1-4334-41c0-b1a8-78b2789e12b1",
   "metadata": {},
   "outputs": [],
   "source": [
    "import pandas as pd \n",
    "from joblib import dump\n",
    "from rich.console import Console\n",
    "\n",
    "from sklearn.pipeline import make_pipeline, make_union\n",
    "from sklearn.linear_model import LogisticRegression\n",
    "from sklearn.feature_extraction.text import CountVectorizer\n",
    "\n",
    "console = Console()"
   ]
  },
  {
   "cell_type": "code",
   "execution_count": 33,
   "id": "b0d8277b-e25e-453d-a751-4626ae1d0eef",
   "metadata": {},
   "outputs": [
    {
     "data": {
      "text/html": [
       "<pre style=\"white-space:pre;overflow-x:auto;line-height:normal;font-family:Menlo,'DejaVu Sans Mono',consolas,'Courier New',monospace\"><span style=\"color: #7fbfbf; text-decoration-color: #7fbfbf\">[13:04:57] </span>Training data loaded.                                               <a href=\"file:///tmp/ipykernel_2071323/407289360.py\"><span style=\"color: #7f7f7f; text-decoration-color: #7f7f7f\">407289360.py</span></a><span style=\"color: #7f7f7f; text-decoration-color: #7f7f7f\">:</span><a href=\"file:///tmp/ipykernel_2071323/407289360.py#3\"><span style=\"color: #7f7f7f; text-decoration-color: #7f7f7f\">3</span></a>\n",
       "</pre>\n"
      ],
      "text/plain": [
       "\u001b[2;36m[13:04:57]\u001b[0m\u001b[2;36m \u001b[0mTraining data loaded.                                               \u001b]8;id=65151;file:///tmp/ipykernel_2071323/407289360.py\u001b\\\u001b[2m407289360.py\u001b[0m\u001b]8;;\u001b\\\u001b[2m:\u001b[0m\u001b]8;id=874755;file:///tmp/ipykernel_2071323/407289360.py#3\u001b\\\u001b[2m3\u001b[0m\u001b]8;;\u001b\\\n"
      ]
     },
     "metadata": {},
     "output_type": "display_data"
    },
    {
     "data": {
      "text/html": [
       "<pre style=\"white-space:pre;overflow-x:auto;line-height:normal;font-family:Menlo,'DejaVu Sans Mono',consolas,'Courier New',monospace\"><span style=\"color: #7fbfbf; text-decoration-color: #7fbfbf\">[13:05:15] </span>ML Pipeline fitted.                                                <a href=\"file:///tmp/ipykernel_2071323/407289360.py\"><span style=\"color: #7f7f7f; text-decoration-color: #7f7f7f\">407289360.py</span></a><span style=\"color: #7f7f7f; text-decoration-color: #7f7f7f\">:</span><a href=\"file:///tmp/ipykernel_2071323/407289360.py#15\"><span style=\"color: #7f7f7f; text-decoration-color: #7f7f7f\">15</span></a>\n",
       "</pre>\n"
      ],
      "text/plain": [
       "\u001b[2;36m[13:05:15]\u001b[0m\u001b[2;36m \u001b[0mML Pipeline fitted.                                                \u001b]8;id=803558;file:///tmp/ipykernel_2071323/407289360.py\u001b\\\u001b[2m407289360.py\u001b[0m\u001b]8;;\u001b\\\u001b[2m:\u001b[0m\u001b]8;id=55920;file:///tmp/ipykernel_2071323/407289360.py#15\u001b\\\u001b[2m15\u001b[0m\u001b]8;;\u001b\\\n"
      ]
     },
     "metadata": {},
     "output_type": "display_data"
    },
    {
     "data": {
      "text/html": [
       "<pre style=\"white-space:pre;overflow-x:auto;line-height:normal;font-family:Menlo,'DejaVu Sans Mono',consolas,'Courier New',monospace\"><span style=\"color: #7fbfbf; text-decoration-color: #7fbfbf\">           </span>Joblib pickle saved.                                               <a href=\"file:///tmp/ipykernel_2071323/407289360.py\"><span style=\"color: #7f7f7f; text-decoration-color: #7f7f7f\">407289360.py</span></a><span style=\"color: #7f7f7f; text-decoration-color: #7f7f7f\">:</span><a href=\"file:///tmp/ipykernel_2071323/407289360.py#18\"><span style=\"color: #7f7f7f; text-decoration-color: #7f7f7f\">18</span></a>\n",
       "</pre>\n"
      ],
      "text/plain": [
       "\u001b[2;36m          \u001b[0m\u001b[2;36m \u001b[0mJoblib pickle saved.                                               \u001b]8;id=973834;file:///tmp/ipykernel_2071323/407289360.py\u001b\\\u001b[2m407289360.py\u001b[0m\u001b]8;;\u001b\\\u001b[2m:\u001b[0m\u001b]8;id=967538;file:///tmp/ipykernel_2071323/407289360.py#18\u001b\\\u001b[2m18\u001b[0m\u001b]8;;\u001b\\\n"
      ]
     },
     "metadata": {},
     "output_type": "display_data"
    }
   ],
   "source": [
    "# Load the training data\n",
    "df = pd.read_csv(\"clinc_oos-plus.csv\").loc[lambda d: d['split'] == 'train']\n",
    "console.log(\"Training data loaded.\")\n",
    "\n",
    "X = df['text'].to_list()\n",
    "y = df['label']\n",
    "\n",
    "# Make a very basic machine learning pipeline\n",
    "pipe = make_pipeline(\n",
    "    CountVectorizer(),\n",
    "    LogisticRegression()\n",
    ")\n",
    "\n",
    "pipe.fit(X, y)\n",
    "console.log(\"ML Pipeline fitted.\")\n",
    "\n",
    "dump(pipe, 'pipe.joblib')\n",
    "console.log(\"Joblib pickle saved.\")"
   ]
  },
  {
   "cell_type": "code",
   "execution_count": 50,
   "id": "ce5635e3-574f-497d-b76a-0282510a01a8",
   "metadata": {},
   "outputs": [],
   "source": [
    "from joblib import load\n",
    "\n",
    "trained = load(\"pipe.joblib\")"
   ]
  },
  {
   "cell_type": "code",
   "execution_count": 51,
   "id": "25e44ae9-a97e-4c35-8354-88e4c55aedcc",
   "metadata": {},
   "outputs": [
    {
     "data": {
      "text/plain": [
       "Pipeline(steps=[('countvectorizer', CountVectorizer()),\n",
       "                ('logisticregression', LogisticRegression())])"
      ]
     },
     "execution_count": 51,
     "metadata": {},
     "output_type": "execute_result"
    }
   ],
   "source": [
    "trained"
   ]
  },
  {
   "cell_type": "code",
   "execution_count": 52,
   "id": "972278b8-6f16-45af-a019-583ce1099970",
   "metadata": {},
   "outputs": [
    {
     "data": {
      "text/plain": [
       "array([82])"
      ]
     },
     "execution_count": 52,
     "metadata": {},
     "output_type": "execute_result"
    }
   ],
   "source": [
    "trained.predict([\"hello\"])"
   ]
  },
  {
   "cell_type": "code",
   "execution_count": 53,
   "id": "e1ef84d7-17b0-4f9e-b5a5-6654a26c81fc",
   "metadata": {},
   "outputs": [],
   "source": [
    "class EvilThing:\n",
    "    def predict(self, X):\n",
    "        print(\"fooled you!\")\n",
    "        return [1 for _ in X]"
   ]
  },
  {
   "cell_type": "code",
   "execution_count": 54,
   "id": "10114d48-fed5-481a-a45e-7fd3f0759333",
   "metadata": {},
   "outputs": [],
   "source": [
    "evil_pipe = EvilThing()"
   ]
  },
  {
   "cell_type": "code",
   "execution_count": 55,
   "id": "f3660c30-24e2-4e0e-9ce5-b3d9ef807c33",
   "metadata": {},
   "outputs": [
    {
     "data": {
      "text/plain": [
       "['pipe-evil.joblib']"
      ]
     },
     "execution_count": 55,
     "metadata": {},
     "output_type": "execute_result"
    }
   ],
   "source": [
    "from joblib import dump, load\n",
    "\n",
    "dump(evil_pipe, \"pipe-evil.joblib\")"
   ]
  },
  {
   "cell_type": "code",
   "execution_count": 57,
   "id": "ed3c1047-3195-49af-80a4-f569ec86b282",
   "metadata": {},
   "outputs": [
    {
     "name": "stdout",
     "output_type": "stream",
     "text": [
      "fooled you!\n"
     ]
    },
    {
     "data": {
      "text/plain": [
       "[1]"
      ]
     },
     "execution_count": 57,
     "metadata": {},
     "output_type": "execute_result"
    }
   ],
   "source": [
    "from joblib import dump, load\n",
    "\n",
    "pipe_loaded = load(\"pipe-evil.joblib\")\n",
    "pipe_loaded.predict([\"hello\"])"
   ]
  },
  {
   "cell_type": "code",
   "execution_count": 26,
   "id": "37b8c376-805f-4358-ac5c-cd15c5fc2eec",
   "metadata": {},
   "outputs": [
    {
     "name": "stdout",
     "output_type": "stream",
     "text": [
      "04a415025a812c2a69cb3552d83ee275\n",
      "0b119f868ac251eee25af5c4b0c2064d\n"
     ]
    }
   ],
   "source": [
    "import hashlib \n",
    "\n",
    "def calc_checksum(path):\n",
    "    md5_hash = hashlib.md5()\n",
    "\n",
    "    with open(path, \"rb\") as f:\n",
    "        content = f.read()\n",
    "    md5_hash.update(content)\n",
    "    digest = md5_hash.hexdigest()\n",
    "    print(digest)\n",
    "\n",
    "calc_checksum(\"pipe.joblib\")\n",
    "calc_checksum(\"pipe-evil.joblib\")"
   ]
  },
  {
   "cell_type": "code",
   "execution_count": 78,
   "id": "5239e500-8b76-4fdd-93a9-63f18e515a2a",
   "metadata": {},
   "outputs": [],
   "source": [
    "from sklearn.linear_model import LogisticRegression\n",
    "from sklearn.datasets import load_wine\n",
    "\n",
    "X, y = load_wine(return_X_y=True)\n",
    "\n",
    "clf = LogisticRegression(max_iter=10_000)"
   ]
  },
  {
   "cell_type": "code",
   "execution_count": 80,
   "id": "0e850397-6633-4cc7-9df4-4294cfdeef87",
   "metadata": {},
   "outputs": [],
   "source": [
    "prop_before = dir(clf)\n",
    "clf.fit(X, y)\n",
    "prop_after = dir(clf)"
   ]
  },
  {
   "cell_type": "code",
   "execution_count": 81,
   "id": "44def2d5-d591-4920-8e64-4eacb7f9e0de",
   "metadata": {},
   "outputs": [
    {
     "data": {
      "text/plain": [
       "['classes_', 'coef_', 'intercept_', 'n_features_in_', 'n_iter_']"
      ]
     },
     "execution_count": 81,
     "metadata": {},
     "output_type": "execute_result"
    }
   ],
   "source": [
    "[e for e in prop_after if e not in prop_before]"
   ]
  },
  {
   "cell_type": "code",
   "execution_count": 84,
   "id": "46e645a6-0a54-4ffa-acb5-1470314365b5",
   "metadata": {},
   "outputs": [
    {
     "data": {
      "text/plain": [
       "array([-16.93248808,  22.88678838,  -5.9543003 ])"
      ]
     },
     "execution_count": 84,
     "metadata": {},
     "output_type": "execute_result"
    }
   ],
   "source": [
    "clf.intercept_"
   ]
  },
  {
   "cell_type": "code",
   "execution_count": 72,
   "id": "dc676987-5b3f-40b0-bc0d-0b946cd778ca",
   "metadata": {},
   "outputs": [],
   "source": [
    "import h5py\n",
    "\n",
    "def save_coefficients(classifier, filename):\n",
    "    \"\"\"Save the coefficients of a linear model into a .h5 file.\"\"\"\n",
    "    with h5py.File(filename, 'w') as hf:\n",
    "        hf.create_dataset(\"coef\",  data=classifier.coef_)\n",
    "        hf.create_dataset(\"intercept\",  data=classifier.intercept_)\n",
    "        hf.create_dataset(\"classes\", data=classifier.classes_)\n",
    "\n",
    "def load_coefficients(classifier, filename):\n",
    "    \"\"\"Attach the saved coefficients to a linear model.\"\"\"\n",
    "    with h5py.File(filename, 'r') as hf:\n",
    "        coef = hf['coef'][:]\n",
    "        intercept = hf['intercept'][:]\n",
    "        classes = hf['classes'][:]\n",
    "    classifier.coef_ = coef\n",
    "    classifier.intercept_ = intercept\n",
    "    classifier.classes_ = classes"
   ]
  },
  {
   "cell_type": "code",
   "execution_count": 85,
   "id": "88b8c233-4119-4b2a-b3a7-82e0b9c5ad0f",
   "metadata": {},
   "outputs": [],
   "source": [
    "save_coefficients(clf, \"clf.h5\")"
   ]
  },
  {
   "cell_type": "code",
   "execution_count": 86,
   "id": "c106ccd4-f7e2-4aaa-8374-c31515ce363d",
   "metadata": {},
   "outputs": [],
   "source": [
    "lr = LogisticRegression()\n",
    "load_coefficients(lr, \"clf.h5\")"
   ]
  },
  {
   "cell_type": "code",
   "execution_count": 87,
   "id": "e73da719-fd9b-4ad3-8df3-800907b5b855",
   "metadata": {},
   "outputs": [
    {
     "data": {
      "text/plain": [
       "array([0, 0, 0, 0, 0, 0, 0, 0, 0, 0, 0, 0, 0, 0, 0, 0, 0, 0, 0, 0, 0, 0,\n",
       "       0, 0, 0, 1, 0, 0, 0, 0, 0, 0, 0, 0, 0, 0, 0, 0, 0, 0, 0, 0, 0, 0,\n",
       "       0, 0, 0, 0, 0, 0, 0, 0, 0, 0, 0, 0, 0, 0, 0, 1, 1, 1, 1, 1, 1, 1,\n",
       "       1, 1, 1, 1, 1, 1, 1, 1, 1, 1, 1, 1, 1, 1, 1, 1, 1, 1, 1, 1, 1, 1,\n",
       "       1, 1, 1, 1, 1, 1, 1, 1, 1, 1, 1, 1, 1, 1, 1, 1, 1, 1, 1, 1, 1, 1,\n",
       "       1, 1, 1, 1, 1, 1, 1, 1, 1, 1, 1, 1, 1, 1, 1, 1, 1, 1, 1, 1, 2, 2,\n",
       "       2, 2, 2, 2, 2, 2, 2, 2, 2, 2, 2, 2, 2, 2, 2, 2, 2, 2, 2, 2, 2, 2,\n",
       "       2, 2, 2, 2, 2, 2, 2, 2, 2, 2, 2, 2, 2, 2, 2, 2, 2, 2, 2, 2, 2, 2,\n",
       "       2, 2])"
      ]
     },
     "execution_count": 87,
     "metadata": {},
     "output_type": "execute_result"
    }
   ],
   "source": [
    "lr.predict(X)"
   ]
  },
  {
   "cell_type": "code",
   "execution_count": 88,
   "id": "c89e8323-a6d6-4bc2-bb97-36eec6248646",
   "metadata": {},
   "outputs": [
    {
     "data": {
      "text/plain": [
       "Pipeline(steps=[('countvectorizer', CountVectorizer()),\n",
       "                ('logisticregression', LogisticRegression())])"
      ]
     },
     "execution_count": 88,
     "metadata": {},
     "output_type": "execute_result"
    }
   ],
   "source": [
    "pipe"
   ]
  },
  {
   "cell_type": "code",
   "execution_count": null,
   "id": "b2a5dc08-0064-4715-9838-fb5459067f23",
   "metadata": {},
   "outputs": [],
   "source": []
  }
 ],
 "metadata": {
  "kernelspec": {
   "display_name": "Python 3 (ipykernel)",
   "language": "python",
   "name": "python3"
  },
  "language_info": {
   "codemirror_mode": {
    "name": "ipython",
    "version": 3
   },
   "file_extension": ".py",
   "mimetype": "text/x-python",
   "name": "python",
   "nbconvert_exporter": "python",
   "pygments_lexer": "ipython3",
   "version": "3.7.9"
  }
 },
 "nbformat": 4,
 "nbformat_minor": 5
}
